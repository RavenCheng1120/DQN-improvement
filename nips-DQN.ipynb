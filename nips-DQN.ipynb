{
 "cells": [
  {
   "cell_type": "markdown",
   "metadata": {},
   "source": [
    "DQN improvements:各式DQN變形\n",
    "=============\n",
    "### 參考來源：GAOYANGAU/DRLPytorch"
   ]
  },
  {
   "cell_type": "markdown",
   "metadata": {},
   "source": [
    "# 1. nips-DQN\n",
    "### 在基本的Deep Q-Learning的基礎上使用了Experience Replay經驗池，通過將訓練得到的數據儲存起來，然後隨機採樣的方法降低了數據樣本的相關性，以提升性能。    \n",
    "### DQN目標Q-Network是動態的，跟著Q-Network的更新而變化。    \n",
    "先引入需要的函式庫與套件。    \n",
    "pytorch安裝方法：在Anaconda終端機打上`conda install pytorch torchvision -c pytorch`    \n",
    "另外要創建兩個.py檔案：net與util。"
   ]
  },
  {
   "cell_type": "code",
   "execution_count": 11,
   "metadata": {},
   "outputs": [],
   "source": [
    "import torch\n",
    "import torch.nn as nn\n",
    "from collections import deque\n",
    "import numpy as np\n",
    "import gym\n",
    "import random\n",
    "from net import AtariNet\n",
    "from util import preprocess"
   ]
  },
  {
   "cell_type": "markdown",
   "metadata": {},
   "source": [
    "設定參數，使用的遊戲環境是打桌球遊戲。    \n",
    "在終端機打上`pip install gym[atari]`來安裝Atari遊戲。"
   ]
  },
  {
   "cell_type": "code",
   "execution_count": 12,
   "metadata": {},
   "outputs": [],
   "source": [
    "BATCH_SIZE = 32\n",
    "LR = 0.001\n",
    "START_EPSILON = 1.0\n",
    "FINAL_EPSILON = 0.1\n",
    "EPSILON = START_EPSILON\n",
    "EXPLORE = 1000000\n",
    "GAMMA = 0.99\n",
    "TOTAL_EPISODES = 10000000\n",
    "MEMORY_SIZE = 1000000\n",
    "MEMORY_THRESHOLD = 100000\n",
    "TEST_FREQUENCY = 1000\n",
    "env = gym.make('Pong-v0')\n",
    "env = env.unwrapped\n",
    "ACTIONS_SIZE = env.action_space.n"
   ]
  },
  {
   "cell_type": "markdown",
   "metadata": {},
   "source": [
    "設定Agent物件。    \n",
    "- `__init__`函式是初始化，利用net.py建造network，並設定optimizer為Adam、loss_function為MSE Loss。    \n",
    "- `action`函式會進行遊戲，首先由random值與閥值(EPSILON)決定action是隨機或根據經驗。`torch.unsqueeze()`這個函數主要是對數據維度進行擴充，`torch.max`會返回輸入tensor中所有元素的最大值。    \n",
    "- `learn`函式紀錄學習過程，`memory.append`會儲存\"SARS',是否結束\"到memory的deque列表中，如果列表超過memory size會刪掉舊的資料，如果memory不夠多資料會return。    \n",
    "當經驗池中含足夠多筆資料時，會從中隨機挑選一個sample，計算eval_q(從所在state估算)和next_q(紀錄中的next state得出)，最後算出target_q和loss，以改善類神經網路。"
   ]
  },
  {
   "cell_type": "code",
   "execution_count": 13,
   "metadata": {},
   "outputs": [],
   "source": [
    "class Agent(object):\n",
    "    def __init__(self):\n",
    "        self.network = AtariNet(ACTIONS_SIZE)\n",
    "        self.memory = deque()\n",
    "        self.optimizer = torch.optim.Adam(self.network.parameters(), lr=LR)\n",
    "        self.loss_func = nn.MSELoss()\n",
    "\n",
    "    def action(self, state, israndom):\n",
    "        if israndom and random.random() < EPSILON:\n",
    "            return np.random.randint(0, ACTIONS_SIZE)\n",
    "        state = torch.unsqueeze(torch.FloatTensor(state), 0)\n",
    "        actions_value = self.network.forward(state)\n",
    "        return torch.max(actions_value, 1)[1].data.numpy()[0]\n",
    "\n",
    "    def learn(self, state, action, reward, next_state, done):\n",
    "        if done:\n",
    "            self.memory.append((state, action, reward, next_state, 0))\n",
    "        else:\n",
    "            self.memory.append((state, action, reward, next_state, 1))\n",
    "        if len(self.memory) > MEMORY_SIZE:\n",
    "            self.memory.popleft()\n",
    "        if len(self.memory) < MEMORY_THRESHOLD:\n",
    "            return\n",
    "\n",
    "        batch = random.sample(self.memory, BATCH_SIZE)\n",
    "        state = torch.FloatTensor([x[0] for x in batch])\n",
    "        action = torch.LongTensor([[x[1]] for x in batch])\n",
    "        reward = torch.FloatTensor([[x[2]] for x in batch])\n",
    "        next_state = torch.FloatTensor([x[3] for x in batch])\n",
    "        done = torch.FloatTensor([[x[4]] for x in batch])\n",
    "\n",
    "        eval_q = self.network.forward(state).gather(1, action)\n",
    "        next_q = self.network(next_state).detach()\n",
    "        target_q = reward + GAMMA * next_q.max(1)[0].view(BATCH_SIZE, 1) * done\n",
    "        loss = self.loss_func(eval_q, target_q)\n",
    "\n",
    "        self.optimizer.zero_grad()\n",
    "        loss.backward()\n",
    "        self.optimizer.step()"
   ]
  },
  {
   "cell_type": "markdown",
   "metadata": {},
   "source": [
    "- 最外層的for迴圈：    \n",
    "TOTAL_EPISODES為一千萬次，每一千次會進行test。    \n",
    "`env.reset()`：初始化環境。    \n",
    "util的`preprocess`功能：每個frame轉換為32位浮點值(介於0和1)的47×47灰度圖像。獎勵信號限制為-1、0和1。不進行圖像裁剪。\n",
    "- 第一次while迴圈：   \n",
    "`agent.action(state, True)`：得到隨機或是由類神經網路預測的actions_value。    \n",
    "`env.step(action)`：做出action，得到下一個state、reward、遊戲是否結束、info。    \n",
    "`preprocess(next_state)`：將下一個state先做預處理。   \n",
    "`agent.learn(state, action, reward, next_state, done)`：送到上面的learn function做學習。    \n",
    "若遊戲結束就break這個迴圈。    \n",
    "每次EPSILON會遞減，直到最小值0.1為止。\n",
    "- 每一千次進行test：    \n",
    "action函數的參數israndom設為False，不再隨機決定動作，計算玩完一次遊戲後reward總值是多少。"
   ]
  },
  {
   "cell_type": "code",
   "execution_count": null,
   "metadata": {},
   "outputs": [
    {
     "name": "stdout",
     "output_type": "stream",
     "text": [
      "episode: 0 , total_reward: -21.0\n"
     ]
    }
   ],
   "source": [
    "agent = Agent()\n",
    "\n",
    "for i_episode in range(TOTAL_EPISODES):\n",
    "    state = env.reset()\n",
    "    state = preprocess(state)\n",
    "    while True:\n",
    "        # env.render()\n",
    "        action = agent.action(state, True)\n",
    "        next_state, reward, done, info = env.step(action)\n",
    "        next_state = preprocess(next_state)\n",
    "        agent.learn(state, action, reward, next_state, done)\n",
    "\n",
    "        state = next_state\n",
    "        if done:\n",
    "            break\n",
    "    if EPSILON > FINAL_EPSILON:\n",
    "        EPSILON -= (START_EPSILON - FINAL_EPSILON) / EXPLORE\n",
    "\n",
    "    # TEST\n",
    "    if i_episode % TEST_FREQUENCY == 0:\n",
    "        state = env.reset()\n",
    "        state = preprocess(state)\n",
    "        total_reward = 0\n",
    "        while True:\n",
    "            # env.render()\n",
    "            action = agent.action(state, israndom=False)\n",
    "            next_state, reward, done, info = env.step(action)\n",
    "            next_state = preprocess(next_state)\n",
    "\n",
    "            total_reward += reward\n",
    "\n",
    "            state = next_state\n",
    "            if done:\n",
    "                break\n",
    "        print('episode: {} , total_reward: {}'.format(i_episode, round(total_reward, 3)))\n",
    "\n",
    "env.close()"
   ]
  },
  {
   "cell_type": "code",
   "execution_count": null,
   "metadata": {},
   "outputs": [],
   "source": []
  }
 ],
 "metadata": {
  "kernelspec": {
   "display_name": "Python 3",
   "language": "python",
   "name": "python3"
  },
  "language_info": {
   "codemirror_mode": {
    "name": "ipython",
    "version": 3
   },
   "file_extension": ".py",
   "mimetype": "text/x-python",
   "name": "python",
   "nbconvert_exporter": "python",
   "pygments_lexer": "ipython3",
   "version": "3.7.3"
  }
 },
 "nbformat": 4,
 "nbformat_minor": 4
}
