{
 "cells": [
  {
   "cell_type": "markdown",
   "metadata": {},
   "source": [
    "# 4. dueling-DQN\n",
    "### 將Q網路分成兩個通道，一個輸出V，一個輸出A，最後再合起來得到Q。\n",
    "### 它分成了這個state的值，加上每個動作在這個state上的 advantage，因為有時候在某種 state，無論做什麼動作，對下一個state都沒有多大影響。    \n",
    "[圖片來源：莫煩Python Dueling DQN (Tensorflow)]    \n",
    "![title](image/dueling01.png)\n",
    "### import部分與Nips-DQN相似\n",
    "先引入需要的函式庫與套件。  "
   ]
  },
  {
   "cell_type": "code",
   "execution_count": 6,
   "metadata": {},
   "outputs": [],
   "source": [
    "import torch\n",
    "import torch.nn as nn\n",
    "from collections import deque\n",
    "import numpy as np\n",
    "import gym\n",
    "import random\n",
    "import cv2\n",
    "from util import preprocess"
   ]
  },
  {
   "cell_type": "markdown",
   "metadata": {},
   "source": [
    "### 此處與Nips-DQN相同\n",
    "設定參數。"
   ]
  },
  {
   "cell_type": "code",
   "execution_count": 7,
   "metadata": {},
   "outputs": [],
   "source": [
    "BATCH_SIZE = 32\n",
    "LR = 0.001\n",
    "START_EPSILON = 1.0\n",
    "FINAL_EPSILON = 0.1\n",
    "EPSILON = START_EPSILON\n",
    "EXPLORE = 1000000\n",
    "GAMMA = 0.99\n",
    "TOTAL_EPISODES = 10000000\n",
    "MEMORY_SIZE = 1000000\n",
    "MEMORY_THRESHOLD = 100000\n",
    "TEST_FREQUENCY = 1000\n",
    "env = gym.make('Pong-v0')\n",
    "env = env.unwrapped\n",
    "ACTIONS_SIZE = env.action_space.n"
   ]
  },
  {
   "cell_type": "markdown",
   "metadata": {},
   "source": [
    "### 此為Dueling-DQN與先前DQN的最大差異處，hidden和out layer分為V部分與A部分。\n",
    "設定`DuelingNet`物件，CNN層與先前使用的AtariNet有些差距"
   ]
  },
  {
   "cell_type": "code",
   "execution_count": 8,
   "metadata": {},
   "outputs": [],
   "source": [
    "class DuelingNet(nn.Module):\n",
    "\n",
    "    def __init__(self, num_actions):\n",
    "        super(DuelingNet, self).__init__()\n",
    "        self.num_actions = num_actions\n",
    "        self.conv1 = nn.Sequential(\n",
    "            nn.Conv2d(1, 32, kernel_size=8, stride=4),\n",
    "            nn.ReLU()\n",
    "        )\n",
    "        self.conv2 = nn.Sequential(\n",
    "            nn.Conv2d(32, 64, kernel_size=4, stride=2),\n",
    "            nn.ReLU()\n",
    "        )\n",
    "        self.conv3 = nn.Sequential(\n",
    "            nn.Conv2d(64, 64, kernel_size=3, stride=1),\n",
    "            nn.ReLU()\n",
    "        )\n",
    "        self.hidden_adv = nn.Sequential(\n",
    "            nn.Linear(64 * 7 * 7, 512, bias=True),\n",
    "            nn.ReLU()\n",
    "        )\n",
    "        self.hidden_val = nn.Sequential(\n",
    "            nn.Linear(64 * 7 * 7, 512, bias=True),\n",
    "            nn.ReLU()\n",
    "        )\n",
    "        self.adv = nn.Sequential(\n",
    "            nn.Linear(512, num_actions, bias=True)\n",
    "        )\n",
    "        self.val = nn.Sequential(\n",
    "            nn.Linear(512, 1, bias=True)\n",
    "        )\n",
    "        self.apply(self.init_weights)\n",
    "\n",
    "    def init_weights(self, m):\n",
    "        if type(m) == nn.Conv2d:\n",
    "            m.weight.data.normal_(0.0, 0.02)\n",
    "        if type(m) == nn.Linear:\n",
    "            torch.nn.init.xavier_uniform_(m.weight)\n",
    "            m.bias.data.fill_(0.01)\n",
    "\n",
    "    def forward(self, x):\n",
    "        x = self.conv1(x)\n",
    "        x = self.conv2(x)\n",
    "        x = self.conv3(x)\n",
    "        x = x.view(x.size(0), -1)\n",
    "        adv = self.hidden_adv(x)\n",
    "        val = self.hidden_val(x)\n",
    "\n",
    "        adv = self.adv(adv)\n",
    "        val = self.val(val).expand(x.size(0), self.num_actions)\n",
    "\n",
    "        x = val + adv - adv.mean(1).unsqueeze(1).expand(x.size(0), self.num_actions)\n",
    "        return x"
   ]
  },
  {
   "cell_type": "markdown",
   "metadata": {},
   "source": [
    "Dueling-DQN的Q network分為兩個部分：value和advantage(如下圖)    \n",
    "[圖片來源：莫煩Python Dueling DQN (Tensorflow)]\n",
    "![title](image/dueling02.png)\n",
    "Agent初始network為DuelingNet，其餘與Nips-DQN相似。"
   ]
  },
  {
   "cell_type": "code",
   "execution_count": 13,
   "metadata": {},
   "outputs": [],
   "source": [
    "class Agent(object):\n",
    "    def __init__(self):\n",
    "        self.network = DuelingNet(ACTIONS_SIZE)\n",
    "        self.memory = deque()\n",
    "        self.optimizer = torch.optim.Adam(self.network.parameters(), lr=LR)\n",
    "        self.loss_func = nn.MSELoss()\n",
    "\n",
    "    def action(self, state, israndom):\n",
    "        if israndom and random.random() < EPSILON:\n",
    "            return np.random.randint(0, ACTIONS_SIZE)\n",
    "        state = torch.unsqueeze(torch.FloatTensor(state), 0)\n",
    "        actions_value = self.network.forward(state)\n",
    "        return torch.max(actions_value, 1)[1].data.numpy()[0]\n",
    "\n",
    "    def learn(self, state, action, reward, next_state, done):\n",
    "        if done:\n",
    "            self.memory.append((state, action, reward, next_state, 0))\n",
    "        else:\n",
    "            self.memory.append((state, action, reward, next_state, 1))\n",
    "        if len(self.memory) > MEMORY_SIZE:\n",
    "            self.memory.popleft()\n",
    "        if len(self.memory) < MEMORY_THRESHOLD:\n",
    "            return\n",
    "\n",
    "        batch = random.sample(self.memory, BATCH_SIZE)\n",
    "        state = torch.FloatTensor([x[0] for x in batch])\n",
    "        action = torch.LongTensor([[x[1]] for x in batch])\n",
    "        reward = torch.FloatTensor([[x[2]] for x in batch])\n",
    "        next_state = torch.FloatTensor([x[3] for x in batch])\n",
    "        done = torch.FloatTensor([[x[4]] for x in batch])\n",
    "\n",
    "        eval_q = self.network.forward(state).gather(1, action)\n",
    "        next_q = self.network(next_state).detach()\n",
    "        target_q = reward + GAMMA * next_q.max(1)[0].view(BATCH_SIZE, 1) * done\n",
    "        loss = self.loss_func(eval_q, target_q)\n",
    "\n",
    "        self.optimizer.zero_grad()\n",
    "        loss.backward()\n",
    "        self.optimizer.step()"
   ]
  },
  {
   "cell_type": "markdown",
   "metadata": {},
   "source": [
    "### 此部分與Nips-DQN相同"
   ]
  },
  {
   "cell_type": "code",
   "execution_count": null,
   "metadata": {},
   "outputs": [
    {
     "name": "stdout",
     "output_type": "stream",
     "text": [
      "episode: 0 , total_reward: -21.0\n"
     ]
    }
   ],
   "source": [
    "agent = Agent()\n",
    "\n",
    "for i_episode in range(TOTAL_EPISODES):\n",
    "    state = env.reset()\n",
    "    state = preprocess(state)\n",
    "    while True:\n",
    "        # env.render()\n",
    "        action = agent.action(state, True)\n",
    "        next_state, reward, done, info = env.step(action)\n",
    "        next_state = preprocess(next_state)\n",
    "        agent.learn(state, action, reward, next_state, done)\n",
    "\n",
    "        state = next_state\n",
    "        if done:\n",
    "            break\n",
    "    if EPSILON > FINAL_EPSILON:\n",
    "        EPSILON -= (START_EPSILON - FINAL_EPSILON) / EXPLORE\n",
    "\n",
    "    # TEST\n",
    "    if i_episode % TEST_FREQUENCY == 0:\n",
    "        state = env.reset()\n",
    "        state = preprocess(state)\n",
    "        total_reward = 0\n",
    "        while True:\n",
    "            # env.render()\n",
    "            action = agent.action(state, israndom=False)\n",
    "            next_state, reward, done, info = env.step(action)\n",
    "            next_state = preprocess(next_state)\n",
    "\n",
    "            total_reward += reward\n",
    "\n",
    "            state = next_state\n",
    "            if done:\n",
    "                break\n",
    "        print('episode: {} , total_reward: {}'.format(i_episode, round(total_reward, 3)))\n",
    "\n",
    "env.close()"
   ]
  },
  {
   "cell_type": "code",
   "execution_count": null,
   "metadata": {},
   "outputs": [],
   "source": []
  }
 ],
 "metadata": {
  "kernelspec": {
   "display_name": "Python 3",
   "language": "python",
   "name": "python3"
  },
  "language_info": {
   "codemirror_mode": {
    "name": "ipython",
    "version": 3
   },
   "file_extension": ".py",
   "mimetype": "text/x-python",
   "name": "python",
   "nbconvert_exporter": "python",
   "pygments_lexer": "ipython3",
   "version": "3.7.3"
  }
 },
 "nbformat": 4,
 "nbformat_minor": 4
}
